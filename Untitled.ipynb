{
 "cells": [
  {
   "cell_type": "code",
   "execution_count": 6,
   "id": "43135d40-6d87-4a88-b0f0-31ac8856cc2e",
   "metadata": {},
   "outputs": [],
   "source": [
    "import torch\n",
    "from einops import rearrange, repeat\n"
   ]
  },
  {
   "cell_type": "code",
   "execution_count": 9,
   "id": "1f6551cf-ad01-438c-a3b2-c7d93fd72c0f",
   "metadata": {},
   "outputs": [],
   "source": [
    "def create_mask(window_size, displacement, upper_lower, left_right):\n",
    "    mask = torch.zeros(window_size ** 2, window_size ** 2)\n",
    "\n",
    "    if upper_lower:\n",
    "        mask[-displacement * window_size:, :-displacement * window_size] = -1\n",
    "        mask[:-displacement * window_size, -displacement * window_size:] = -1\n",
    "\n",
    "    if left_right:\n",
    "        mask = rearrange(mask, '(h1 w1) (h2 w2) -> h1 w1 h2 w2', h1=window_size, h2=window_size)\n",
    "        mask[:, -displacement:, :, :-displacement] = -1\n",
    "        mask[:, :-displacement, :, -displacement:] = -1\n",
    "        mask = rearrange(mask, 'h1 w1 h2 w2 -> (h1 w1) (h2 w2)')\n",
    "\n",
    "    return mask"
   ]
  },
  {
   "cell_type": "code",
   "execution_count": 16,
   "id": "01bded78-b256-4f62-9ccc-23c6659aa0f2",
   "metadata": {},
   "outputs": [
    {
     "data": {
      "text/plain": [
       "tensor([[ 0., -1., -1., -1.],\n",
       "        [-1.,  0., -1., -1.],\n",
       "        [-1., -1.,  0., -1.],\n",
       "        [-1., -1., -1.,  0.]])"
      ]
     },
     "execution_count": 16,
     "metadata": {},
     "output_type": "execute_result"
    }
   ],
   "source": [
    "create_mask(2,1,4,4)"
   ]
  },
  {
   "cell_type": "code",
   "execution_count": 13,
   "id": "4e5be3b4-21ae-4dca-b471-5fae1fc5cc10",
   "metadata": {},
   "outputs": [
    {
     "data": {
      "text/plain": [
       "tensor([[[[[   0.,    0.,    0.,    0.],\n",
       "           [   0.,    0.,    0.,    0.],\n",
       "           [   0.,    0.,    0.,    0.],\n",
       "           [   0.,    0.,    0.,    0.]]],\n",
       "\n",
       "\n",
       "         [[[   0., -100.,    0., -100.],\n",
       "           [-100.,    0., -100.,    0.],\n",
       "           [   0., -100.,    0., -100.],\n",
       "           [-100.,    0., -100.,    0.]]],\n",
       "\n",
       "\n",
       "         [[[   0.,    0., -100., -100.],\n",
       "           [   0.,    0., -100., -100.],\n",
       "           [-100., -100.,    0.,    0.],\n",
       "           [-100., -100.,    0.,    0.]]],\n",
       "\n",
       "\n",
       "         [[[   0., -100., -100., -100.],\n",
       "           [-100.,    0., -100., -100.],\n",
       "           [-100., -100.,    0., -100.],\n",
       "           [-100., -100., -100.,    0.]]]]])"
      ]
     },
     "execution_count": 13,
     "metadata": {},
     "output_type": "execute_result"
    }
   ],
   "source": [
    "import torch\n",
    "import torch.nn as nn\n",
    "\n",
    "\n",
    "def window_partition(x, window_size):\n",
    "    \"\"\"\n",
    "    Args:\n",
    "        x: (B, H, W, C)\n",
    "        window_size (int): window size\n",
    "\n",
    "    Returns:\n",
    "        windows: (num_windows*B, window_size, window_size, C)\n",
    "    \"\"\"\n",
    "    B, H, W, C = x.shape\n",
    "    x = x.view(B, H // window_size, window_size, W // window_size, window_size, C)\n",
    "    windows = x.permute(0, 1, 3, 2, 4, 5).contiguous().view(-1, window_size, window_size, C)\n",
    "    return windows\n",
    "\n",
    "\n",
    "window_size = 2\n",
    "shift_size = 1\n",
    "H, W = 4, 4\n",
    "img_mask = torch.zeros((1, H, W, 1))  # 1 H W 1\n",
    "h_slices = (slice(0, -window_size),\n",
    "            slice(-window_size, -shift_size),\n",
    "            slice(-shift_size, None))\n",
    "w_slices = (slice(0, -window_size),\n",
    "            slice(-window_size, -shift_size),\n",
    "            slice(-shift_size, None))\n",
    "\n",
    "cnt = 0\n",
    "for h in h_slices:\n",
    "    for w in w_slices:\n",
    "        img_mask[:, h, w, :] = cnt\n",
    "        cnt += 1\n",
    "\n",
    "mask_windows = window_partition(img_mask, window_size)  # nW, window_size, window_size, 1\n",
    "mask_windows = mask_windows.view(-1, window_size * window_size)\n",
    "attn_mask = mask_windows.unsqueeze(1) - mask_windows.unsqueeze(2)\n",
    "attn_mask = attn_mask.masked_fill(attn_mask != 0, float(-100.0)).masked_fill(attn_mask == 0, float(0.0))\n",
    "attn_mask = attn_mask.unsqueeze(1).unsqueeze(0)\n",
    "\n",
    "attn_mask"
   ]
  },
  {
   "cell_type": "code",
   "execution_count": null,
   "id": "13a45442-b610-4018-b956-a5f8f087a746",
   "metadata": {},
   "outputs": [],
   "source": []
  }
 ],
 "metadata": {
  "kernelspec": {
   "display_name": "Python 3 (ipykernel)",
   "language": "python",
   "name": "python3"
  },
  "language_info": {
   "codemirror_mode": {
    "name": "ipython",
    "version": 3
   },
   "file_extension": ".py",
   "mimetype": "text/x-python",
   "name": "python",
   "nbconvert_exporter": "python",
   "pygments_lexer": "ipython3",
   "version": "3.10.9"
  }
 },
 "nbformat": 4,
 "nbformat_minor": 5
}
